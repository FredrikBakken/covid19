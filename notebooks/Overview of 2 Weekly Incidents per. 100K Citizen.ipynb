{
 "cells": [
  {
   "cell_type": "markdown",
   "metadata": {},
   "source": [
    "# Overview of 2 Weekly Incidents per. 100K Citizen"
   ]
  },
  {
   "cell_type": "code",
   "execution_count": 1,
   "metadata": {},
   "outputs": [
    {
     "name": "stdout",
     "output_type": "stream",
     "text": [
      "Requirement already satisfied: pandas in /opt/conda/lib/python3.7/site-packages (1.0.5)\r\n",
      "Requirement already satisfied: pytz>=2017.2 in /opt/conda/lib/python3.7/site-packages (from pandas) (2020.1)\r\n",
      "Requirement already satisfied: python-dateutil>=2.6.1 in /opt/conda/lib/python3.7/site-packages (from pandas) (2.8.1)\r\n",
      "Requirement already satisfied: numpy>=1.13.3 in /opt/conda/lib/python3.7/site-packages (from pandas) (1.18.5)\r\n",
      "Requirement already satisfied: six>=1.5 in /opt/conda/lib/python3.7/site-packages (from python-dateutil>=2.6.1->pandas) (1.15.0)\r\n"
     ]
    }
   ],
   "source": [
    "!pip install pandas\n",
    "import ipywidgets as widgets\n",
    "from IPython.display import clear_output\n",
    "\n",
    "from helpers.new_cases import get_new_cases\n",
    "from helpers.population import get_population\n",
    "from helpers.all_countries import get_all_countries"
   ]
  },
  {
   "cell_type": "code",
   "execution_count": 2,
   "metadata": {},
   "outputs": [
    {
     "data": {
      "application/vnd.jupyter.widget-view+json": {
       "model_id": "f394833a03ca4f2dbb6f84d066dac01e",
       "version_major": 2,
       "version_minor": 0
      },
      "text/plain": [
       "Dropdown(description='Country:', options=('ALA Aland Islands', 'Afghanistan', 'Albania', 'Algeria', 'American …"
      ]
     },
     "metadata": {},
     "output_type": "display_data"
    },
    {
     "data": {
      "application/vnd.jupyter.widget-view+json": {
       "model_id": "cc72a4815bcc4f0cb7cffa2c8fc1bc60",
       "version_major": 2,
       "version_minor": 0
      },
      "text/plain": [
       "Output()"
      ]
     },
     "metadata": {},
     "output_type": "display_data"
    }
   ],
   "source": [
    "printouts = widgets.Output()\n",
    "\n",
    "def dropdown_handler(change):\n",
    "    with printouts:\n",
    "        if (change.new):\n",
    "            clear_output()\n",
    "            print(f\"Selected country: {change.new}\\n\")\n",
    "            \n",
    "            selected_country = countries.loc[countries.Country == change.new]\n",
    "            selected_slug = selected_country.Slug.values[0]\n",
    "            \n",
    "            fourteen_days_ago, yesterday, province_cases = get_new_cases(selected_slug)\n",
    "            \n",
    "            for province in province_cases.keys():\n",
    "                selected_province = change.new if province == '' else province\n",
    "                print(f\"Province: {selected_province}\")\n",
    "                \n",
    "                selected_iso = countries.loc[countries.Country == selected_province].ISO2.values[0]\n",
    "                year, population = get_population(selected_iso)\n",
    "                print(f\"Population in {year}: {population}\")\n",
    "                \n",
    "                print(f\"New cases between {fourteen_days_ago.strftime('%d.%m.%Y')} and {yesterday.strftime('%d.%m.%Y')}: {province_cases[province]}\")\n",
    "\n",
    "                per_100k = ((province_cases[province] / 2) / population) * 100000\n",
    "                print(f\"Weekly indicents per. 100K citizen (2-week average): {per_100k}\\n\")\n",
    "            \n",
    "countries = get_all_countries()\n",
    "dropdown_countries = widgets.Dropdown(options = countries.Country.sort_values(), description = \"Country:\", value = None)\n",
    "display(dropdown_countries)\n",
    "display(printouts)\n",
    "dropdown_countries.observe(dropdown_handler, names='value')"
   ]
  },
  {
   "cell_type": "code",
   "execution_count": null,
   "metadata": {},
   "outputs": [],
   "source": []
  }
 ],
 "metadata": {
  "kernelspec": {
   "display_name": "Python 3",
   "language": "python",
   "name": "python3"
  },
  "language_info": {
   "codemirror_mode": {
    "name": "ipython",
    "version": 3
   },
   "file_extension": ".py",
   "mimetype": "text/x-python",
   "name": "python",
   "nbconvert_exporter": "python",
   "pygments_lexer": "ipython3",
   "version": "3.7.6"
  }
 },
 "nbformat": 4,
 "nbformat_minor": 4
}
